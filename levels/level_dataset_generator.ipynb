{
 "cells": [
  {
   "cell_type": "code",
   "execution_count": 1,
   "id": "initial_id",
   "metadata": {
    "collapsed": true,
    "ExecuteTime": {
     "end_time": "2024-01-18T01:56:06.313852849Z",
     "start_time": "2024-01-18T01:56:05.996021909Z"
    }
   },
   "outputs": [],
   "source": [
    "import pandas as pd\n",
    "import os"
   ]
  },
  {
   "cell_type": "code",
   "outputs": [],
   "source": [
    "quantifiers_dict = {\n",
    "    \"no\": 0,\n",
    "    \"little\": 1,\n",
    "    \"some\": 2,\n",
    "    \"many\": 3\n",
    "}\n",
    "elevation_dict = {\n",
    "    \"low\": 0,\n",
    "    \"high\": 1\n",
    "}"
   ],
   "metadata": {
    "collapsed": false,
    "ExecuteTime": {
     "end_time": "2024-01-18T01:56:06.362626584Z",
     "start_time": "2024-01-18T01:56:06.355528801Z"
    }
   },
   "id": "e636f011c33b48d3",
   "execution_count": 2
  },
  {
   "cell_type": "code",
   "outputs": [],
   "source": [
    "dict_list = []\n",
    "for filename in os.listdir(\".\"):\n",
    "    if filename.endswith(\".txt\"):\n",
    "        prompt = filename.replace(\",\", \"\")\n",
    "        tokens = prompt.split(\"_\")\n",
    "        with open(filename, \"r\") as file:\n",
    "            level_string = file.read()\n",
    "            dict_list.append({\n",
    "                \"filename\": filename,\n",
    "                \"pipes\": quantifiers_dict[tokens[0]],\n",
    "                \"enemies\": quantifiers_dict[tokens[2]],\n",
    "                \"blocks\": quantifiers_dict[tokens[4]],\n",
    "                \"elevation\": -1 if len(tokens) == 6 else elevation_dict[tokens[6]],\n",
    "                \"level\": level_string\n",
    "            })"
   ],
   "metadata": {
    "collapsed": false,
    "ExecuteTime": {
     "end_time": "2024-01-18T01:56:06.363535832Z",
     "start_time": "2024-01-18T01:56:06.356029158Z"
    }
   },
   "id": "fa5099451a20edc6",
   "execution_count": 3
  },
  {
   "cell_type": "code",
   "outputs": [],
   "source": [
    "df = pd.DataFrame(dict_list)\n",
    "df.to_csv(\"levels.csv\", index=False)"
   ],
   "metadata": {
    "collapsed": false,
    "ExecuteTime": {
     "end_time": "2024-01-18T01:56:57.471902862Z",
     "start_time": "2024-01-18T01:56:57.425482510Z"
    }
   },
   "id": "ec0950773fa20cee",
   "execution_count": 5
  },
  {
   "cell_type": "code",
   "outputs": [],
   "source": [
    "def extract_result_info(result):\n",
    "    return {\n",
    "        \"completion_percentage\": result.getCompletionPercentage(),\n",
    "        \"remaining_time\": result.getRemainingTime(),\n",
    "        \"mario_state\": result.getMarioMode(),\n",
    "        \"kills\": result.getKillsTotal(),\n",
    "        \"bricks\": result.getNumDestroyedBricks(),\n",
    "        \"jumps\": result.getNumJumps(),\n",
    "        \"jump_max_x\": result.getMaxXJump(),\n",
    "        \"jump_max_air_time\": result.getMaxJumpAirTime()\n",
    "    }"
   ],
   "metadata": {
    "collapsed": false,
    "ExecuteTime": {
     "end_time": "2024-01-18T02:20:08.511921497Z",
     "start_time": "2024-01-18T02:20:08.500512755Z"
    }
   },
   "id": "85a222f3be530882",
   "execution_count": 13
  },
  {
   "cell_type": "code",
   "outputs": [],
   "source": [
    "# note: this requires to run LevelScorer in the Java application first\n",
    "\n",
    "from py4j.java_gateway import JavaGateway\n",
    "\n",
    "gateway = JavaGateway()\n",
    "level_scorer = gateway.entry_point"
   ],
   "metadata": {
    "collapsed": false,
    "ExecuteTime": {
     "end_time": "2024-01-18T02:11:31.958887185Z",
     "start_time": "2024-01-18T02:11:31.940559022Z"
    }
   },
   "id": "3101a213e6d358d4",
   "execution_count": 6
  },
  {
   "cell_type": "code",
   "outputs": [],
   "source": [
    "scored_dicts = []\n",
    "for row_dict in df.to_dict(orient=\"records\"):\n",
    "    scored_dict = {}\n",
    "    scored_dict |= row_dict\n",
    "    result = level_scorer.score(row_dict[\"level\"])\n",
    "    scored_dict |= extract_result_info(result)\n",
    "    scored_dicts.append(scored_dict)"
   ],
   "metadata": {
    "collapsed": false,
    "ExecuteTime": {
     "end_time": "2024-01-18T02:34:34.537521464Z",
     "start_time": "2024-01-18T02:21:26.576790613Z"
    }
   },
   "id": "6b5521c3c3261d71",
   "execution_count": 14
  },
  {
   "cell_type": "code",
   "outputs": [
    {
     "data": {
      "text/plain": "                                            filename  pipes  enemies  blocks  \\\n0  some_pipes,_many_enemies,_many_blocks,_low_ele...      2        3       3   \n1  no_pipes,_many_enemies,_many_blocks,_high_elev...      0        3       3   \n2                no_pipes,_no_enemies,_no_blocks.txt      0        0       0   \n3          little_pipes,_many_enemies,_no_blocks.txt      1        3       0   \n4  some_pipes,_no_enemies,_many_blocks,_low_eleva...      2        0       3   \n\n   elevation                                              level  \\\n0          0  ----------------------------------------------...   \n1          1  ----------------------------------------------...   \n2         -1  ----------------------------------------------...   \n3         -1  ----------------------------------------------...   \n4          0  ----------------------------------------------...   \n\n   completion_percentage  remaining_time  mario_state  kills  bricks  jumps  \\\n0               0.007203               0            0      0       0      0   \n1               1.000000           15080            0      5       0      7   \n2               0.514070           17480            0      0       0      2   \n3               1.000000           15260            0      0       0      5   \n4               1.000000           14900            0      0       0      6   \n\n   jump_max_x  jump_max_air_time  \n0     0.00000                  0  \n1   183.45184                 16  \n2   119.70032                 10  \n3   118.46857                 10  \n4   157.71385                 14  ",
      "text/html": "<div>\n<style scoped>\n    .dataframe tbody tr th:only-of-type {\n        vertical-align: middle;\n    }\n\n    .dataframe tbody tr th {\n        vertical-align: top;\n    }\n\n    .dataframe thead th {\n        text-align: right;\n    }\n</style>\n<table border=\"1\" class=\"dataframe\">\n  <thead>\n    <tr style=\"text-align: right;\">\n      <th></th>\n      <th>filename</th>\n      <th>pipes</th>\n      <th>enemies</th>\n      <th>blocks</th>\n      <th>elevation</th>\n      <th>level</th>\n      <th>completion_percentage</th>\n      <th>remaining_time</th>\n      <th>mario_state</th>\n      <th>kills</th>\n      <th>bricks</th>\n      <th>jumps</th>\n      <th>jump_max_x</th>\n      <th>jump_max_air_time</th>\n    </tr>\n  </thead>\n  <tbody>\n    <tr>\n      <th>0</th>\n      <td>some_pipes,_many_enemies,_many_blocks,_low_ele...</td>\n      <td>2</td>\n      <td>3</td>\n      <td>3</td>\n      <td>0</td>\n      <td>----------------------------------------------...</td>\n      <td>0.007203</td>\n      <td>0</td>\n      <td>0</td>\n      <td>0</td>\n      <td>0</td>\n      <td>0</td>\n      <td>0.00000</td>\n      <td>0</td>\n    </tr>\n    <tr>\n      <th>1</th>\n      <td>no_pipes,_many_enemies,_many_blocks,_high_elev...</td>\n      <td>0</td>\n      <td>3</td>\n      <td>3</td>\n      <td>1</td>\n      <td>----------------------------------------------...</td>\n      <td>1.000000</td>\n      <td>15080</td>\n      <td>0</td>\n      <td>5</td>\n      <td>0</td>\n      <td>7</td>\n      <td>183.45184</td>\n      <td>16</td>\n    </tr>\n    <tr>\n      <th>2</th>\n      <td>no_pipes,_no_enemies,_no_blocks.txt</td>\n      <td>0</td>\n      <td>0</td>\n      <td>0</td>\n      <td>-1</td>\n      <td>----------------------------------------------...</td>\n      <td>0.514070</td>\n      <td>17480</td>\n      <td>0</td>\n      <td>0</td>\n      <td>0</td>\n      <td>2</td>\n      <td>119.70032</td>\n      <td>10</td>\n    </tr>\n    <tr>\n      <th>3</th>\n      <td>little_pipes,_many_enemies,_no_blocks.txt</td>\n      <td>1</td>\n      <td>3</td>\n      <td>0</td>\n      <td>-1</td>\n      <td>----------------------------------------------...</td>\n      <td>1.000000</td>\n      <td>15260</td>\n      <td>0</td>\n      <td>0</td>\n      <td>0</td>\n      <td>5</td>\n      <td>118.46857</td>\n      <td>10</td>\n    </tr>\n    <tr>\n      <th>4</th>\n      <td>some_pipes,_no_enemies,_many_blocks,_low_eleva...</td>\n      <td>2</td>\n      <td>0</td>\n      <td>3</td>\n      <td>0</td>\n      <td>----------------------------------------------...</td>\n      <td>1.000000</td>\n      <td>14900</td>\n      <td>0</td>\n      <td>0</td>\n      <td>0</td>\n      <td>6</td>\n      <td>157.71385</td>\n      <td>14</td>\n    </tr>\n  </tbody>\n</table>\n</div>"
     },
     "execution_count": 15,
     "metadata": {},
     "output_type": "execute_result"
    }
   ],
   "source": [
    "scored_df = pd.DataFrame(scored_dicts)\n",
    "scored_df.head()"
   ],
   "metadata": {
    "collapsed": false,
    "ExecuteTime": {
     "end_time": "2024-01-18T02:38:18.222736253Z",
     "start_time": "2024-01-18T02:38:18.211735927Z"
    }
   },
   "id": "e4ea213ce2caa7d6",
   "execution_count": 15
  },
  {
   "cell_type": "code",
   "outputs": [],
   "source": [
    "scored_df.to_csv(\"levels_scored.csv\", index=False)"
   ],
   "metadata": {
    "collapsed": false,
    "ExecuteTime": {
     "end_time": "2024-01-18T02:38:32.730576986Z",
     "start_time": "2024-01-18T02:38:32.721150419Z"
    }
   },
   "id": "9ac3affcff57aee5",
   "execution_count": 17
  }
 ],
 "metadata": {
  "kernelspec": {
   "display_name": "Python 3",
   "language": "python",
   "name": "python3"
  },
  "language_info": {
   "codemirror_mode": {
    "name": "ipython",
    "version": 2
   },
   "file_extension": ".py",
   "mimetype": "text/x-python",
   "name": "python",
   "nbconvert_exporter": "python",
   "pygments_lexer": "ipython2",
   "version": "2.7.6"
  }
 },
 "nbformat": 4,
 "nbformat_minor": 5
}
